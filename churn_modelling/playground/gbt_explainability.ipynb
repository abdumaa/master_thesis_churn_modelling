{
 "cells": [
  {
   "cell_type": "markdown",
   "metadata": {},
   "source": [
    "# Explain GBT fit\n",
    "\n",
    "This notebook contains core functions used for explainability of a GBT fit. The code behind these functions is in the [lgbm.py](https://github.com/abdumaa/master_thesis_churn_modelling/blob/main/churn_modelling/modelling/lgbm.py) file.\n",
    "The cells below are executed by clicking on them and pressing \"shift+enter\"."
   ]
  },
  {
   "cell_type": "markdown",
   "metadata": {},
   "source": [
    "## Adjust path!\n",
    "\n",
    "Please make sure to execute the cell below. This will adjust your current path. Additionally \"SCRIPT_DIR\" is later used to save the [plots](https://github.com/abdumaa/master_thesis_churn_modelling/tree/main/churn_modelling/playground/plots) in it."
   ]
  },
  {
   "cell_type": "code",
   "execution_count": null,
   "metadata": {},
   "outputs": [],
   "source": [
    "import sys\n",
    "import os\n",
    "\n",
    "SCRIPT_DIR = os.path.dirname(os.path.abspath(\"__file__\"))\n",
    "sys.path.append(os.path.dirname(SCRIPT_DIR[:-11]))"
   ]
  },
  {
   "cell_type": "markdown",
   "metadata": {},
   "source": [
    "## Import the LGBM class"
   ]
  },
  {
   "cell_type": "code",
   "execution_count": null,
   "metadata": {},
   "outputs": [],
   "source": [
    "from churn_modelling.modelling.lgbm import LGBM"
   ]
  },
  {
   "cell_type": "markdown",
   "metadata": {},
   "source": [
    "## Call the class\n",
    "\n",
    "The class automatically loads all datasets from the [data](https://github.com/abdumaa/master_thesis_churn_modelling/tree/main/churn_modelling/data) folder as [attributes](https://github.com/abdumaa/master_thesis_churn_modelling/blob/14077d754b48e962f494e3eb4b335f6b88945f6f/churn_modelling/modelling/lgbm.py#L39)."
   ]
  },
  {
   "cell_type": "code",
   "execution_count": null,
   "metadata": {},
   "outputs": [],
   "source": [
    "gbt_modelling = LGBM()"
   ]
  },
  {
   "cell_type": "markdown",
   "metadata": {},
   "source": [
    "### 1. PDP\n",
    "\n",
    "Takes the model from cache [lgbm_fits](https://github.com/abdumaa/master_thesis_churn_modelling/tree/main/churn_modelling/playground/lgbm_fits) defined in \"cache_model_name\" and plots PDP's for all features in feats. \\\n",
    "If save is set to true plot is saved to [plots](https://github.com/abdumaa/master_thesis_churn_modelling/tree/main/churn_modelling/playground/plots). \\\n",
    "[code](https://github.com/abdumaa/master_thesis_churn_modelling/blob/main/churn_modelling/modelling/lgbm.py#L558)"
   ]
  },
  {
   "cell_type": "code",
   "execution_count": null,
   "metadata": {},
   "outputs": [],
   "source": [
    "gbt_modelling.plot_pdp(\n",
    "    feats=['n_requests_1', 'diff_n_requests_3'],\n",
    "    cache_model_name=\"lgbm_fit_gbt_up1_best_quot_aNone_gNone\",\n",
    "    path_to_folder=SCRIPT_DIR,\n",
    "    save=False\n",
    ")"
   ]
  },
  {
   "cell_type": "markdown",
   "metadata": {},
   "source": [
    "### 2. SHAP Summary Plot\n",
    "\n",
    "Takes the model from cache [lgbm_fits](https://github.com/abdumaa/master_thesis_churn_modelling/tree/main/churn_modelling/playground/lgbm_fits) defined in \"cache_model_name\" and plots SHAP's summary plot. \\\n",
    "If save is set to true plot is saved to [plots](https://github.com/abdumaa/master_thesis_churn_modelling/tree/main/churn_modelling/playground/plots). \\\n",
    "[code](https://github.com/abdumaa/master_thesis_churn_modelling/blob/main/churn_modelling/modelling/lgbm.py#L591)"
   ]
  },
  {
   "cell_type": "code",
   "execution_count": null,
   "metadata": {},
   "outputs": [],
   "source": [
    "gbt_modelling.plot_shap_summary(\n",
    "    cache_model_name=\"lgbm_fit_gbt_up1_best_quot_aNone_gNone\",\n",
    "    path_to_folder=SCRIPT_DIR,\n",
    "    save=False\n",
    ")"
   ]
  },
  {
   "cell_type": "markdown",
   "metadata": {},
   "source": [
    "### 3. SHAP Local Explanation\n",
    "\n",
    "Takes the model from cache [lgbm_fits](https://github.com/abdumaa/master_thesis_churn_modelling/tree/main/churn_modelling/playground/lgbm_fits) defined in \"cache_model_name\" and plots SHAP values for one sample (idx). \\\n",
    "The parameter \"idx\" corresponds to the index in the [OOS-Data-Set](https://github.com/abdumaa/master_thesis_churn_modelling/blob/main/churn_modelling/data/toydata_oos.csv) of the considered sample. \\\n",
    "If save is set to true plot is saved to [plots](https://github.com/abdumaa/master_thesis_churn_modelling/tree/main/churn_modelling/playground/plots). \\\n",
    "[code](https://github.com/abdumaa/master_thesis_churn_modelling/blob/main/churn_modelling/modelling/lgbm.py#L632)"
   ]
  },
  {
   "cell_type": "code",
   "execution_count": null,
   "metadata": {},
   "outputs": [],
   "source": [
    "gbt_modelling.plot_shap_waterfall(\n",
    "    idx=59751,\n",
    "    cache_model_name=\"lgbm_fit_gbt_up1_best_quot_aNone_gNone\",\n",
    "    path_to_folder=SCRIPT_DIR,\n",
    "    save=False\n",
    ")"
   ]
  },
  {
   "cell_type": "code",
   "execution_count": null,
   "metadata": {},
   "outputs": [],
   "source": []
  }
 ],
 "metadata": {
  "kernelspec": {
   "display_name": "Python 3.9.1 64-bit",
   "language": "python",
   "name": "python39164bit1b7085399b144131b3c6aab0c8fc3c91"
  },
  "language_info": {
   "codemirror_mode": {
    "name": "ipython",
    "version": 3
   },
   "file_extension": ".py",
   "mimetype": "text/x-python",
   "name": "python",
   "nbconvert_exporter": "python",
   "pygments_lexer": "ipython3",
   "version": "3.9.1"
  }
 },
 "nbformat": 4,
 "nbformat_minor": 2
}
