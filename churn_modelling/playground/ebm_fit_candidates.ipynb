{
 "metadata": {
  "language_info": {
   "codemirror_mode": {
    "name": "ipython",
    "version": 3
   },
   "file_extension": ".py",
   "mimetype": "text/x-python",
   "name": "python",
   "nbconvert_exporter": "python",
   "pygments_lexer": "ipython3",
   "version": "3.9.1-final"
  },
  "orig_nbformat": 2,
  "kernelspec": {
   "name": "python39164bit1b7085399b144131b3c6aab0c8fc3c91",
   "display_name": "Python 3.9.1 64-bit"
  }
 },
 "nbformat": 4,
 "nbformat_minor": 2,
 "cells": [
  {
   "cell_type": "code",
   "execution_count": 4,
   "metadata": {},
   "outputs": [],
   "source": [
    "import sys\n",
    "import os\n",
    "\n",
    "SCRIPT_DIR = os.path.dirname(os.path.abspath(\"__file__\"))\n",
    "sys.path.append(os.path.dirname(SCRIPT_DIR[:-11]))"
   ]
  },
  {
   "cell_type": "code",
   "execution_count": 5,
   "metadata": {},
   "outputs": [],
   "source": [
    "from churn_modelling.modelling.ebm import EBM"
   ]
  },
  {
   "cell_type": "code",
   "execution_count": 6,
   "metadata": {},
   "outputs": [],
   "source": [
    "ebm_modelling = EBM()"
   ]
  },
  {
   "cell_type": "code",
   "execution_count": 9,
   "metadata": {},
   "outputs": [
    {
     "output_type": "stream",
     "name": "stdout",
     "text": [
      "0    44534\n1      932\nName: churn, dtype: int64\n"
     ]
    }
   ],
   "source": [
    "df_train_sampled = ebm_modelling.create_sampling(\n",
    "    df_to_sample=ebm_modelling.df,\n",
    "    sampling=\"down\",\n",
    "    frac=0.5,\n",
    ")\n",
    "print(df_train_sampled[\"churn\"].value_counts())"
   ]
  },
  {
   "cell_type": "code",
   "execution_count": 10,
   "metadata": {},
   "outputs": [
    {
     "output_type": "stream",
     "name": "stdout",
     "text": [
      "------------------ COMPUTE CORRELATION MATRIX\n",
      "------------------ START ITERATING THROUGH FEATURE SET\n",
      "------------------ ITERATION STEP 1\n",
      "n_requests_1 selected with MRMR-Score: 2.4\n",
      "------------------ ITERATION STEP 2\n",
      "diff_avg_vjnbe_requests_3 selected with MRMR-Score: 349.9961111885846\n",
      "------------------ ITERATION STEP 3\n",
      "diff_n_requests_3 selected with MRMR-Score: 392.31577383217257\n",
      "------------------ ITERATION STEP 4\n",
      "diff_n_requests_1 selected with MRMR-Score: 402.9675603114925\n",
      "------------------ ITERATION STEP 5\n",
      "diff_n_requests_2 selected with MRMR-Score: 646.5914100285079\n",
      "------------------ ITERATION STEP 6\n",
      "other_hsntsn_requests_3 selected with MRMR-Score: 347.4372496723154\n",
      "------------------ ITERATION STEP 7\n",
      "n_requests_3 selected with MRMR-Score: 410.57716704410177\n",
      "------------------ ITERATION STEP 8\n",
      "diff_avg_vjnbe_requests_2 selected with MRMR-Score: 351.4073338775844\n",
      "------------------ ITERATION STEP 9\n",
      "other_hsntsn_requests_2 selected with MRMR-Score: 380.9110612786381\n",
      "------------------ ITERATION STEP 10\n",
      "n_requests_2 selected with MRMR-Score: 467.9962328172106\n",
      "------------------ ITERATION STEP 11\n",
      "diff_avg_vjnbe_requests_1 selected with MRMR-Score: 429.08719325530643\n",
      "------------------ ITERATION STEP 12\n",
      "other_hsntsn_requests_1 selected with MRMR-Score: 599.7199644987104\n",
      "------------------ END ITERATING THROUGH FEATURE SET\n",
      "Best set of features: ['n_requests_1', 'diff_avg_vjnbe_requests_3', 'diff_n_requests_3', 'other_hsntsn_requests_3', 'n_accident', 'sum_accident_cost', 'vehicle_age', 'diff_car_holder', 'contract_age_months', 'age_contract_holder', 'age_youngest_driver', 'years_driving_license', 'churn']\n"
     ]
    }
   ],
   "source": [
    "best_feats = ebm_modelling.get_best_quot_features(\n",
    "    df_to_dimreduce=df_train_sampled,\n",
    "    cv=5,\n",
    "    return_fix_features=True,\n",
    "    return_target=True\n",
    ")\n",
    "print(f\"Best set of features: {best_feats}\")"
   ]
  },
  {
   "cell_type": "code",
   "execution_count": 13,
   "metadata": {},
   "outputs": [],
   "source": [
    "from scipy.stats import randint as sp_randint\n",
    "from scipy.stats import uniform as sp_uniform\n",
    "\n",
    "hp_fix_dict = {\n",
    "    \"validation_size\": 0.1111, # to achieve 80/20/20\n",
    "    \"early_stopping_rounds\": 30,\n",
    "    \"early_stopping_tolerance\": 1e-4,\n",
    "    \"max_rounds\": 5000,\n",
    "}\n",
    "hp_tune_dict = {\n",
    "    \"interactions\": sp_randint(5, 10),\n",
    "    \"outer_bags\": sp_randint(10, 20), # computationally very costly\n",
    "    \"inner_bags\": sp_randint(0, 10), # computationally very costly\n",
    "    \"learning_rate\": sp_uniform(loc=0.009, scale=0.006),\n",
    "    \"min_samples_leaf\": sp_randint(2, 5),\n",
    "    \"max_leaves\": sp_randint(2, 5),\n",
    "}\n",
    "rscv_params = {\n",
    "    \"n_iter\": 10,\n",
    "    \"n_jobs\": -1,\n",
    "    \"cv\": 3,\n",
    "    \"verbose\": 100,\n",
    "}"
   ]
  },
  {
   "cell_type": "code",
   "execution_count": 14,
   "metadata": {},
   "outputs": [
    {
     "output_type": "stream",
     "name": "stdout",
     "text": [
      "..1: Small preprocessing\n",
      "Memory usage decreased to  0.87 Mb (80.8% reduction)\n",
      "..2: Start CV-HP-Tuning\n",
      "Fitting 3 folds for each of 10 candidates, totalling 30 fits\n",
      "..3: Finished CV-HP-Tuning\n",
      "..4: Save best model\n"
     ]
    }
   ],
   "source": [
    "ebm_fit = ebm_modelling.fit_ebm(\n",
    "    df_train=df_train_sampled,\n",
    "    hp_fix_dict=hp_fix_dict,\n",
    "    hp_tune_dict=hp_tune_dict,\n",
    "    rscv_params=rscv_params,\n",
    "    feature_set=best_feats,\n",
    "    save_model=True,\n",
    "    cache_model_name=\"test\",\n",
    "    path_to_folder=SCRIPT_DIR,\n",
    ")"
   ]
  },
  {
   "cell_type": "code",
   "execution_count": 16,
   "metadata": {},
   "outputs": [
    {
     "output_type": "stream",
     "name": "stdout",
     "text": [
      "Memory usage decreased to  0.25 Mb (75.0% reduction)\n"
     ]
    }
   ],
   "source": [
    "preds, preds_proba = ebm_modelling.predict(\n",
    "    ebm_modelling.df_oos,\n",
    "    predict_from_cached_fit=False,\n",
    "    fit=ebm_fit,\n",
    ")"
   ]
  },
  {
   "cell_type": "code",
   "execution_count": 17,
   "metadata": {},
   "outputs": [
    {
     "output_type": "stream",
     "name": "stdout",
     "text": [
      "Accuracy_OOS: 0.991 \nPrecision_OOS: 0.6667 \nRecall_OOS: 0.2524 \nF1_Score_OOS: 0.3662 \nAUROC_OOS: 0.9042 \nAUPRC_OOS: 0.3771\n"
     ]
    }
   ],
   "source": [
    "from sklearn.metrics import (\n",
    "    precision_score,\n",
    "    recall_score,\n",
    "    f1_score,\n",
    "    accuracy_score,\n",
    "    roc_auc_score,\n",
    "    average_precision_score,\n",
    ")\n",
    "print('Accuracy_OOS:', round(accuracy_score(ebm_modelling.df_oos[\"churn\"], preds), 4),\n",
    "'\\nPrecision_OOS:', round(precision_score(ebm_modelling.df_oos[\"churn\"], preds), 4),\n",
    "'\\nRecall_OOS:', round(recall_score(ebm_modelling.df_oos[\"churn\"], preds), 4),\n",
    "'\\nF1_Score_OOS:', round(f1_score(ebm_modelling.df_oos[\"churn\"], preds), 4),\n",
    "'\\nAUROC_OOS:', round(roc_auc_score(ebm_modelling.df_oos[\"churn\"], preds_proba), 4),\n",
    "'\\nAUPRC_OOS:', round(average_precision_score(ebm_modelling.df_oos[\"churn\"], preds_proba), 4))"
   ]
  },
  {
   "cell_type": "code",
   "execution_count": 21,
   "metadata": {},
   "outputs": [],
   "source": [
    "import lightgbm as lgb\n",
    "from scipy.stats import randint as sp_randint\n",
    "from scipy.stats import uniform as sp_uniform\n",
    "\n",
    "hp_fix_dict = {\n",
    "    \"validation_size\": 0.1111,\n",
    "    \"early_stopping_rounds\": 30,\n",
    "    \"early_stopping_tolerance\": 1e-4,\n",
    "    \"max_rounds\": 5000,\n",
    "}\n",
    "hp_tune_dict = {\n",
    "    \"interactions\": sp_randint(5, 10),\n",
    "    \"outer_bags\": sp_randint(10, 20), # computationally very costly\n",
    "    \"inner_bags\": sp_randint(0, 10), # computationally very costly\n",
    "    \"learning_rate\": sp_uniform(loc=0.009, scale=0.006),\n",
    "    \"min_samples_leaf\": sp_randint(2, 5),\n",
    "    \"max_leaves\": sp_randint(2, 5),\n",
    "}\n",
    "rscv_params = {\n",
    "    \"n_iter\": 10,\n",
    "    \"n_jobs\": -1,\n",
    "    \"cv\": 3,\n",
    "    \"verbose\": 100,\n",
    "}\n",
    "hp_struct_dict = {\n",
    "    'sampling': {\n",
    "        'down1': 0.1,\n",
    "        'down2': 0.5,\n",
    "    },\n",
    "    'dr_method': ['no_quot', 'best_quot'],\n",
    "}"
   ]
  },
  {
   "cell_type": "code",
   "execution_count": 23,
   "metadata": {},
   "outputs": [
    {
     "output_type": "stream",
     "name": "stdout",
     "text": [
      "------------------ COMPUTE CORRELATION MATRIX\n",
      "------------------ START ITERATING THROUGH FEATURE SET\n",
      "------------------ ITERATION STEP 1\n",
      "n_requests_1 selected with MRMR-Score: 0.0\n",
      "------------------ ITERATION STEP 2\n",
      "diff_n_requests_1 selected with MRMR-Score: 107.66738746172445\n",
      "------------------ ITERATION STEP 3\n",
      "diff_n_requests_2 selected with MRMR-Score: 174.1148323113074\n",
      "------------------ ITERATION STEP 4\n",
      "diff_n_requests_3 selected with MRMR-Score: 311.18913613392266\n",
      "------------------ ITERATION STEP 5\n",
      "n_requests_3 selected with MRMR-Score: 99.87365148203025\n",
      "------------------ ITERATION STEP 6\n",
      "diff_avg_vjnbe_requests_3 selected with MRMR-Score: 80.14449087300149\n",
      "------------------ ITERATION STEP 7\n",
      "n_requests_2 selected with MRMR-Score: 24.34019799040725\n",
      "------------------ ITERATION STEP 8\n",
      "diff_avg_vjnbe_requests_2 selected with MRMR-Score: 37.39771745645413\n",
      "------------------ ITERATION STEP 9\n",
      "other_hsntsn_requests_3 selected with MRMR-Score: 47.355306529627185\n",
      "------------------ ITERATION STEP 10\n",
      "other_hsntsn_requests_2 selected with MRMR-Score: 0.0\n",
      "------------------ ITERATION STEP 11\n",
      "other_hsntsn_requests_1 selected with MRMR-Score: 0.0\n",
      "------------------ ITERATION STEP 12\n",
      "diff_avg_vjnbe_requests_1 selected with MRMR-Score: 0.0\n",
      "------------------ END ITERATING THROUGH FEATURE SET\n",
      "..1: Small preprocessing\n",
      "Memory usage decreased to  0.10 Mb (84.7% reduction)\n",
      "..2: Start CV-HP-Tuning\n",
      "Fitting 3 folds for each of 10 candidates, totalling 30 fits\n",
      "..3: Finished CV-HP-Tuning\n",
      "..4: Save best model\n",
      "Memory usage decreased to  0.17 Mb (75.0% reduction)\n",
      "Memory usage decreased to  0.17 Mb (75.0% reduction)\n",
      "..1: Small preprocessing\n",
      "Memory usage decreased to  0.18 Mb (81.7% reduction)\n",
      "..2: Start CV-HP-Tuning\n",
      "Fitting 3 folds for each of 10 candidates, totalling 30 fits\n",
      "..3: Finished CV-HP-Tuning\n",
      "..4: Save best model\n",
      "Memory usage decreased to  0.25 Mb (75.0% reduction)\n",
      "Memory usage decreased to  0.25 Mb (75.0% reduction)\n",
      "------------------ COMPUTE CORRELATION MATRIX\n",
      "------------------ START ITERATING THROUGH FEATURE SET\n",
      "------------------ ITERATION STEP 1\n",
      "n_requests_1 selected with MRMR-Score: 2.4\n",
      "------------------ ITERATION STEP 2\n",
      "diff_avg_vjnbe_requests_3 selected with MRMR-Score: 349.9961111885846\n",
      "------------------ ITERATION STEP 3\n",
      "diff_n_requests_3 selected with MRMR-Score: 392.31577383217257\n",
      "------------------ ITERATION STEP 4\n",
      "diff_n_requests_1 selected with MRMR-Score: 402.9675603114925\n",
      "------------------ ITERATION STEP 5\n",
      "diff_n_requests_2 selected with MRMR-Score: 646.5914100285079\n",
      "------------------ ITERATION STEP 6\n",
      "other_hsntsn_requests_3 selected with MRMR-Score: 347.4372496723154\n",
      "------------------ ITERATION STEP 7\n",
      "n_requests_3 selected with MRMR-Score: 410.57716704410177\n",
      "------------------ ITERATION STEP 8\n",
      "diff_avg_vjnbe_requests_2 selected with MRMR-Score: 351.4073338775844\n",
      "------------------ ITERATION STEP 9\n",
      "other_hsntsn_requests_2 selected with MRMR-Score: 380.9110612786381\n",
      "------------------ ITERATION STEP 10\n",
      "n_requests_2 selected with MRMR-Score: 467.9962328172106\n",
      "------------------ ITERATION STEP 11\n",
      "diff_avg_vjnbe_requests_1 selected with MRMR-Score: 429.08719325530643\n",
      "------------------ ITERATION STEP 12\n",
      "other_hsntsn_requests_1 selected with MRMR-Score: 599.7199644987104\n",
      "------------------ END ITERATING THROUGH FEATURE SET\n",
      "..1: Small preprocessing\n",
      "Memory usage decreased to  0.52 Mb (83.3% reduction)\n",
      "..2: Start CV-HP-Tuning\n",
      "Fitting 3 folds for each of 10 candidates, totalling 30 fits\n",
      "..3: Finished CV-HP-Tuning\n",
      "..4: Save best model\n",
      "Memory usage decreased to  0.17 Mb (75.0% reduction)\n",
      "Memory usage decreased to  0.17 Mb (75.0% reduction)\n",
      "..1: Small preprocessing\n",
      "Memory usage decreased to  0.87 Mb (80.8% reduction)\n",
      "..2: Start CV-HP-Tuning\n",
      "Fitting 3 folds for each of 10 candidates, totalling 30 fits\n",
      "..3: Finished CV-HP-Tuning\n",
      "..4: Save best model\n",
      "Memory usage decreased to  0.25 Mb (75.0% reduction)\n",
      "Memory usage decreased to  0.25 Mb (75.0% reduction)\n"
     ]
    }
   ],
   "source": [
    "results_df = ebm_modelling.fit_and_eval_ebm_candidates(\n",
    "    hp_struct_dict=hp_struct_dict,\n",
    "    hp_fix_dict=hp_fix_dict,\n",
    "    hp_tune_dict=hp_tune_dict,\n",
    "    rscv_params=rscv_params,\n",
    "    path_to_folder=SCRIPT_DIR,\n",
    "    feature_set_from_last_fits=False,\n",
    ")"
   ]
  },
  {
   "cell_type": "code",
   "execution_count": 24,
   "metadata": {},
   "outputs": [
    {
     "output_type": "execute_result",
     "data": {
      "text/plain": [
       "                               sampling  dr_method  \\\n",
       "ebm_fit_ebm_down2_best_quot  down2: 0.5  best_quot   \n",
       "ebm_fit_ebm_down1_best_quot  down1: 0.1  best_quot   \n",
       "ebm_fit_ebm_down2_no_quot    down2: 0.5    no_quot   \n",
       "ebm_fit_ebm_down1_no_quot    down1: 0.1    no_quot   \n",
       "\n",
       "                                                             features_after_dr  \\\n",
       "ebm_fit_ebm_down2_best_quot  [n_requests_1, diff_avg_vjnbe_requests_3, diff...   \n",
       "ebm_fit_ebm_down1_best_quot  [n_requests_1, diff_n_requests_1, diff_avg_vjn...   \n",
       "ebm_fit_ebm_down2_no_quot    [n_accident, sum_accident_cost, vehicle_age, d...   \n",
       "ebm_fit_ebm_down1_no_quot    [n_accident, sum_accident_cost, vehicle_age, d...   \n",
       "\n",
       "                                                                         model  \\\n",
       "ebm_fit_ebm_down2_best_quot  ExplainableBoostingClassifier(early_stopping_r...   \n",
       "ebm_fit_ebm_down1_best_quot  ExplainableBoostingClassifier(early_stopping_r...   \n",
       "ebm_fit_ebm_down2_no_quot    ExplainableBoostingClassifier(early_stopping_r...   \n",
       "ebm_fit_ebm_down1_no_quot    ExplainableBoostingClassifier(early_stopping_r...   \n",
       "\n",
       "                             Accuracy_OOS  Precision_OOS  Recall_OOS  \\\n",
       "ebm_fit_ebm_down2_best_quot        0.9913       0.710526    0.262136   \n",
       "ebm_fit_ebm_down1_best_quot        0.9830       0.281046    0.417476   \n",
       "ebm_fit_ebm_down2_no_quot          0.9897       0.000000    0.000000   \n",
       "ebm_fit_ebm_down1_no_quot          0.9836       0.185567    0.174757   \n",
       "\n",
       "                             F1_Score_OOS  AUROC_OOS  AUPRC_OOS  Accuracy_OOP  \\\n",
       "ebm_fit_ebm_down2_best_quot      0.382979   0.904415   0.380255        0.9887   \n",
       "ebm_fit_ebm_down1_best_quot      0.335938   0.902986   0.361502        0.9826   \n",
       "ebm_fit_ebm_down2_no_quot        0.000000   0.863696   0.095107        0.9883   \n",
       "ebm_fit_ebm_down1_no_quot        0.180000   0.862140   0.100711        0.9799   \n",
       "\n",
       "                             Precision_OOP  Recall_OOP  F1_Score_OOP  \\\n",
       "ebm_fit_ebm_down2_best_quot       0.566667    0.145299      0.231293   \n",
       "ebm_fit_ebm_down1_best_quot       0.260504    0.264957      0.262712   \n",
       "ebm_fit_ebm_down2_no_quot         0.500000    0.008547      0.016807   \n",
       "ebm_fit_ebm_down1_no_quot         0.118182    0.111111      0.114537   \n",
       "\n",
       "                             AUROC_OOP  AUPRC_OOP  \\\n",
       "ebm_fit_ebm_down2_best_quot   0.868526   0.227650   \n",
       "ebm_fit_ebm_down1_best_quot   0.867459   0.215955   \n",
       "ebm_fit_ebm_down2_no_quot     0.842092   0.075364   \n",
       "ebm_fit_ebm_down1_no_quot     0.841327   0.069141   \n",
       "\n",
       "                                                                          path  \n",
       "ebm_fit_ebm_down2_best_quot  /Users/abdumaa/Desktop/Uni_Abdu/Master/Mastera...  \n",
       "ebm_fit_ebm_down1_best_quot  /Users/abdumaa/Desktop/Uni_Abdu/Master/Mastera...  \n",
       "ebm_fit_ebm_down2_no_quot    /Users/abdumaa/Desktop/Uni_Abdu/Master/Mastera...  \n",
       "ebm_fit_ebm_down1_no_quot    /Users/abdumaa/Desktop/Uni_Abdu/Master/Mastera...  "
      ],
      "text/html": "<div>\n<style scoped>\n    .dataframe tbody tr th:only-of-type {\n        vertical-align: middle;\n    }\n\n    .dataframe tbody tr th {\n        vertical-align: top;\n    }\n\n    .dataframe thead th {\n        text-align: right;\n    }\n</style>\n<table border=\"1\" class=\"dataframe\">\n  <thead>\n    <tr style=\"text-align: right;\">\n      <th></th>\n      <th>sampling</th>\n      <th>dr_method</th>\n      <th>features_after_dr</th>\n      <th>model</th>\n      <th>Accuracy_OOS</th>\n      <th>Precision_OOS</th>\n      <th>Recall_OOS</th>\n      <th>F1_Score_OOS</th>\n      <th>AUROC_OOS</th>\n      <th>AUPRC_OOS</th>\n      <th>Accuracy_OOP</th>\n      <th>Precision_OOP</th>\n      <th>Recall_OOP</th>\n      <th>F1_Score_OOP</th>\n      <th>AUROC_OOP</th>\n      <th>AUPRC_OOP</th>\n      <th>path</th>\n    </tr>\n  </thead>\n  <tbody>\n    <tr>\n      <th>ebm_fit_ebm_down2_best_quot</th>\n      <td>down2: 0.5</td>\n      <td>best_quot</td>\n      <td>[n_requests_1, diff_avg_vjnbe_requests_3, diff...</td>\n      <td>ExplainableBoostingClassifier(early_stopping_r...</td>\n      <td>0.9913</td>\n      <td>0.710526</td>\n      <td>0.262136</td>\n      <td>0.382979</td>\n      <td>0.904415</td>\n      <td>0.380255</td>\n      <td>0.9887</td>\n      <td>0.566667</td>\n      <td>0.145299</td>\n      <td>0.231293</td>\n      <td>0.868526</td>\n      <td>0.227650</td>\n      <td>/Users/abdumaa/Desktop/Uni_Abdu/Master/Mastera...</td>\n    </tr>\n    <tr>\n      <th>ebm_fit_ebm_down1_best_quot</th>\n      <td>down1: 0.1</td>\n      <td>best_quot</td>\n      <td>[n_requests_1, diff_n_requests_1, diff_avg_vjn...</td>\n      <td>ExplainableBoostingClassifier(early_stopping_r...</td>\n      <td>0.9830</td>\n      <td>0.281046</td>\n      <td>0.417476</td>\n      <td>0.335938</td>\n      <td>0.902986</td>\n      <td>0.361502</td>\n      <td>0.9826</td>\n      <td>0.260504</td>\n      <td>0.264957</td>\n      <td>0.262712</td>\n      <td>0.867459</td>\n      <td>0.215955</td>\n      <td>/Users/abdumaa/Desktop/Uni_Abdu/Master/Mastera...</td>\n    </tr>\n    <tr>\n      <th>ebm_fit_ebm_down2_no_quot</th>\n      <td>down2: 0.5</td>\n      <td>no_quot</td>\n      <td>[n_accident, sum_accident_cost, vehicle_age, d...</td>\n      <td>ExplainableBoostingClassifier(early_stopping_r...</td>\n      <td>0.9897</td>\n      <td>0.000000</td>\n      <td>0.000000</td>\n      <td>0.000000</td>\n      <td>0.863696</td>\n      <td>0.095107</td>\n      <td>0.9883</td>\n      <td>0.500000</td>\n      <td>0.008547</td>\n      <td>0.016807</td>\n      <td>0.842092</td>\n      <td>0.075364</td>\n      <td>/Users/abdumaa/Desktop/Uni_Abdu/Master/Mastera...</td>\n    </tr>\n    <tr>\n      <th>ebm_fit_ebm_down1_no_quot</th>\n      <td>down1: 0.1</td>\n      <td>no_quot</td>\n      <td>[n_accident, sum_accident_cost, vehicle_age, d...</td>\n      <td>ExplainableBoostingClassifier(early_stopping_r...</td>\n      <td>0.9836</td>\n      <td>0.185567</td>\n      <td>0.174757</td>\n      <td>0.180000</td>\n      <td>0.862140</td>\n      <td>0.100711</td>\n      <td>0.9799</td>\n      <td>0.118182</td>\n      <td>0.111111</td>\n      <td>0.114537</td>\n      <td>0.841327</td>\n      <td>0.069141</td>\n      <td>/Users/abdumaa/Desktop/Uni_Abdu/Master/Mastera...</td>\n    </tr>\n  </tbody>\n</table>\n</div>"
     },
     "metadata": {},
     "execution_count": 24
    }
   ],
   "source": [
    "results_df"
   ]
  },
  {
   "cell_type": "code",
   "execution_count": null,
   "metadata": {},
   "outputs": [],
   "source": []
  }
 ]
}