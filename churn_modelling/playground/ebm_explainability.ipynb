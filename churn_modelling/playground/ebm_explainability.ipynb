{
 "cells": [
  {
   "cell_type": "markdown",
   "metadata": {},
   "source": [
    "# Explain EBM fit\n",
    "\n",
    "This notebook contains core functions used for explainability of a EBM fit. The code behind these functions is in the [ebm.py](https://github.com/abdumaa/master_thesis_churn_modelling/blob/main/churn_modelling/modelling/ebm.py) file.\n",
    "The cells below are executed by clicking on them and pressing \"shift+enter\"."
   ]
  },
  {
   "cell_type": "markdown",
   "metadata": {},
   "source": [
    "## Adjust path!\n",
    "\n",
    "Please make sure to execute the cell below. This will adjust your current path. Additionally \"SCRIPT_DIR\" is later used to save the [plots](https://github.com/abdumaa/master_thesis_churn_modelling/tree/main/churn_modelling/playground/plots) in it."
   ]
  },
  {
   "cell_type": "code",
   "execution_count": null,
   "metadata": {},
   "outputs": [],
   "source": [
    "import sys\n",
    "import os\n",
    "\n",
    "SCRIPT_DIR = os.path.dirname(os.path.abspath(\"__file__\"))\n",
    "sys.path.append(os.path.dirname(SCRIPT_DIR[:-11]))"
   ]
  },
  {
   "cell_type": "markdown",
   "metadata": {},
   "source": [
    "## Import the EBM class"
   ]
  },
  {
   "cell_type": "code",
   "execution_count": null,
   "metadata": {},
   "outputs": [],
   "source": [
    "from churn_modelling.modelling.ebm import EBM"
   ]
  },
  {
   "cell_type": "markdown",
   "metadata": {},
   "source": [
    "## Call the class\n",
    "\n",
    "The class automatically loads all datasets from the [data](https://github.com/abdumaa/master_thesis_churn_modelling/tree/main/churn_modelling/data) folder as [attributes](https://github.com/abdumaa/master_thesis_churn_modelling/blob/main/churn_modelling/modelling/ebm.py#L37)."
   ]
  },
  {
   "cell_type": "code",
   "execution_count": null,
   "metadata": {},
   "outputs": [],
   "source": [
    "ebm_modelling = EBM()"
   ]
  },
  {
   "cell_type": "markdown",
   "metadata": {},
   "source": [
    "### 1. Plot Shape Functions\n",
    "\n",
    "Takes the model from cache [ebm_fits](https://github.com/abdumaa/master_thesis_churn_modelling/tree/main/churn_modelling/playground/ebm_fits) defined in \"cache_model_name\" and plots the shape functions for all features in feats. \\\n",
    "If save is set to true plot is saved to [plots](https://github.com/abdumaa/master_thesis_churn_modelling/tree/main/churn_modelling/playground/plots). \\\n",
    "[code](https://github.com/abdumaa/master_thesis_churn_modelling/blob/main/churn_modelling/modelling/ebm.py#L457)"
   ]
  },
  {
   "cell_type": "code",
   "execution_count": null,
   "metadata": {},
   "outputs": [],
   "source": [
    "ebm_modelling.plot_shape_function(\n",
    "    feats=['n_requests_1', \"diff_n_requests_3\"],\n",
    "    cache_model_name=\"test\",\n",
    "    path_to_folder=SCRIPT_DIR,\n",
    "    save=True,\n",
    ")"
   ]
  },
  {
   "cell_type": "markdown",
   "metadata": {},
   "source": [
    "### 2. Interpret UI\n",
    "\n",
    "Takes the model from cache [ebm_fits](https://github.com/abdumaa/master_thesis_churn_modelling/tree/main/churn_modelling/playground/ebm_fits) defined in \"cache_model_name\" and shows the interpret UI."
   ]
  },
  {
   "cell_type": "code",
   "execution_count": null,
   "metadata": {},
   "outputs": [],
   "source": [
    "from joblib import load\n",
    "ebm_fit = load(f\"{SCRIPT_DIR}/ebm_fits/test.joblib\")"
   ]
  },
  {
   "cell_type": "code",
   "execution_count": null,
   "metadata": {},
   "outputs": [],
   "source": [
    "from interpret import show\n",
    "ebm_global = ebm_fit.explain_global()\n",
    "show(ebm_global)"
   ]
  },
  {
   "cell_type": "code",
   "execution_count": null,
   "metadata": {},
   "outputs": [],
   "source": []
  }
 ],
 "metadata": {
  "kernelspec": {
   "display_name": "Python 3.9.1 64-bit",
   "language": "python",
   "name": "python39164bit1b7085399b144131b3c6aab0c8fc3c91"
  },
  "language_info": {
   "codemirror_mode": {
    "name": "ipython",
    "version": 3
   },
   "file_extension": ".py",
   "mimetype": "text/x-python",
   "name": "python",
   "nbconvert_exporter": "python",
   "pygments_lexer": "ipython3",
   "version": "3.9.1"
  }
 },
 "nbformat": 4,
 "nbformat_minor": 2
}
