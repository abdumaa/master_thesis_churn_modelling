{
 "cells": [
  {
   "cell_type": "markdown",
   "metadata": {},
   "source": [
    "# Simulate Model Perfomance\n",
    "\n",
    "This notebook contains core functions used for simulating the performance of any cached fit. The code behind these functions is in the [predict_simulate.py](https://github.com/abdumaa/master_thesis_churn_modelling/blob/main/churn_modelling/modelling/predict_simulate.py) file.\n",
    "The cells below are executed by clicking on them and pressing \"shift+enter\"."
   ]
  },
  {
   "cell_type": "markdown",
   "metadata": {},
   "source": [
    "## Adjust path!\n",
    "\n",
    "Please make sure to execute the cell below. This will adjust your current path. Additionally \"SCRIPT_DIR\" is later used to save the [plots](https://github.com/abdumaa/master_thesis_churn_modelling/tree/main/churn_modelling/playground/plots) in it."
   ]
  },
  {
   "cell_type": "code",
   "execution_count": null,
   "metadata": {},
   "outputs": [],
   "source": [
    "import sys\n",
    "import os\n",
    "\n",
    "SCRIPT_DIR = os.path.dirname(os.path.abspath(\"__file__\"))\n",
    "sys.path.append(os.path.dirname(SCRIPT_DIR[:-11]))"
   ]
  },
  {
   "cell_type": "markdown",
   "metadata": {},
   "source": [
    "## Load Functions"
   ]
  },
  {
   "cell_type": "code",
   "execution_count": null,
   "metadata": {},
   "outputs": [],
   "source": [
    "from churn_modelling.modelling.predict_simulate import create_prec_rec_plot, create_profit_simulation_plot"
   ]
  },
  {
   "cell_type": "markdown",
   "metadata": {},
   "source": [
    "### 1. Plot Precision-Recall-Plot\n",
    "\n",
    "Takes the model from cache [ebm_fits](https://github.com/abdumaa/master_thesis_churn_modelling/tree/main/churn_modelling/playground/ebm_fits) or [lgbm_fits](https://github.com/abdumaa/master_thesis_churn_modelling/tree/main/churn_modelling/playground/lgbm_fits) defined in \"cache_model_name\" and plots the precision-recall-plot. \\\n",
    "If save is set to true plot is saved to [plots](https://github.com/abdumaa/master_thesis_churn_modelling/tree/main/churn_modelling/playground/plots). \\\n",
    "[code](https://github.com/abdumaa/master_thesis_churn_modelling/blob/main/churn_modelling/modelling/predict_simulate.py#L26)"
   ]
  },
  {
   "cell_type": "code",
   "execution_count": null,
   "metadata": {},
   "outputs": [],
   "source": [
    "create_prec_rec_plot(\n",
    "    model_folder='playground',\n",
    "    cache_model_name='ebm_fit_ebm_down2_best_quot',\n",
    "    save_folder_path='plots/',\n",
    ")"
   ]
  },
  {
   "cell_type": "markdown",
   "metadata": {},
   "source": [
    "### 2. Plot Profit-Simulation-Plot\n",
    "\n",
    "Takes the model from cache [ebm_fits](https://github.com/abdumaa/master_thesis_churn_modelling/tree/main/churn_modelling/playground/ebm_fits) or [lgbm_fits](https://github.com/abdumaa/master_thesis_churn_modelling/tree/main/churn_modelling/playground/lgbm_fits) defined in \"cache_model_name\" and plots the profit-simulation-plot. \\\n",
    "If save is set to true plot is saved to [plots](https://github.com/abdumaa/master_thesis_churn_modelling/tree/main/churn_modelling/playground/plots). \\\n",
    "[code](https://github.com/abdumaa/master_thesis_churn_modelling/blob/main/churn_modelling/modelling/predict_simulate.py#L79)"
   ]
  },
  {
   "cell_type": "code",
   "execution_count": null,
   "metadata": {},
   "outputs": [],
   "source": [
    "create_profit_simulation_plot(\n",
    "    model_folder='modelling',\n",
    "    cache_model_name='ebm_fit_ebm_down2_best_quot',\n",
    "    save_folder_path='plots/',\n",
    ")"
   ]
  },
  {
   "cell_type": "markdown",
   "metadata": {},
   "source": [
    "### 1. Plot Precision-Recall-Plot\n",
    "\n",
    "Takes the model from cache [ebm_fits](https://github.com/abdumaa/master_thesis_churn_modelling/tree/main/churn_modelling/playground/ebm_fits) or [lgbm_fits](https://github.com/abdumaa/master_thesis_churn_modelling/tree/main/churn_modelling/playground/lgbm_fits) defined in \"cache_model_name\" and plots the precision-recall-plot. \\\n",
    "If save is set to true plot is saved to [plots](https://github.com/abdumaa/master_thesis_churn_modelling/tree/main/churn_modelling/playground/plots). \\\n",
    "[code](https://github.com/abdumaa/master_thesis_churn_modelling/blob/main/churn_modelling/modelling/predict_simulate.py#L26)"
   ]
  },
  {
   "cell_type": "code",
   "execution_count": null,
   "metadata": {},
   "outputs": [],
   "source": [
    "create_prec_rec_plot(\n",
    "    model_folder='playground',\n",
    "    cache_model_name='lgbm_fit_gbt_up1_best_quot_aNone_gNone',\n",
    "    save_folder_path='plots/',\n",
    ")"
   ]
  },
  {
   "cell_type": "markdown",
   "metadata": {},
   "source": [
    "### 2. Plot Profit-Simulation-Plot\n",
    "\n",
    "Takes the model from cache [ebm_fits](https://github.com/abdumaa/master_thesis_churn_modelling/tree/main/churn_modelling/playground/ebm_fits) or [lgbm_fits](https://github.com/abdumaa/master_thesis_churn_modelling/tree/main/churn_modelling/playground/lgbm_fits) defined in \"cache_model_name\" and plots the profit-simulation-plot. \\\n",
    "If save is set to true plot is saved to [plots](https://github.com/abdumaa/master_thesis_churn_modelling/tree/main/churn_modelling/playground/plots). \\\n",
    "[code](https://github.com/abdumaa/master_thesis_churn_modelling/blob/main/churn_modelling/modelling/predict_simulate.py#L79)"
   ]
  },
  {
   "cell_type": "code",
   "execution_count": null,
   "metadata": {},
   "outputs": [],
   "source": [
    "create_profit_simulation_plot(\n",
    "    model_folder='modelling',\n",
    "    cache_model_name='lgbm_fit_gbt_up1_best_quot_aNone_gNone',\n",
    "    save_folder_path='plots/',\n",
    ")"
   ]
  },
  {
   "cell_type": "code",
   "execution_count": null,
   "metadata": {},
   "outputs": [],
   "source": []
  }
 ],
 "metadata": {
  "kernelspec": {
   "display_name": "Python 3.9.1 64-bit",
   "language": "python",
   "name": "python39164bit1b7085399b144131b3c6aab0c8fc3c91"
  },
  "language_info": {
   "codemirror_mode": {
    "name": "ipython",
    "version": 3
   },
   "file_extension": ".py",
   "mimetype": "text/x-python",
   "name": "python",
   "nbconvert_exporter": "python",
   "pygments_lexer": "ipython3",
   "version": "3.9.1"
  }
 },
 "nbformat": 4,
 "nbformat_minor": 2
}
